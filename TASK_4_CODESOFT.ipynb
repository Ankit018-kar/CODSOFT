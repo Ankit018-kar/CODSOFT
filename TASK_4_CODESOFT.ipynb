{
  "nbformat": 4,
  "nbformat_minor": 0,
  "metadata": {
    "colab": {
      "provenance": [],
      "authorship_tag": "ABX9TyNzTZPuDZWN9W6bNatypRhL",
      "include_colab_link": true
    },
    "kernelspec": {
      "name": "python3",
      "display_name": "Python 3"
    },
    "language_info": {
      "name": "python"
    }
  },
  "cells": [
    {
      "cell_type": "markdown",
      "metadata": {
        "id": "view-in-github",
        "colab_type": "text"
      },
      "source": [
        "<a href=\"https://colab.research.google.com/github/Ankit018-kar/COODSOFT/blob/main/TASK_4_CODESOFT.ipynb\" target=\"_parent\"><img src=\"https://colab.research.google.com/assets/colab-badge.svg\" alt=\"Open In Colab\"/></a>"
      ]
    },
    {
      "cell_type": "code",
      "source": [
        "# ROCK PAPER SCISSORS GAME : TASK_4_CODSOFT\n",
        "\n",
        "import random\n",
        "\n",
        "options = (\"rock\",\"paper\",\"scissors\")\n",
        "running = True\n",
        "\n",
        "while running:\n",
        "\n",
        "    player_choice = None\n",
        "    computer= random.choice(options)\n",
        "\n",
        "\n",
        "    while player_choice not in options:\n",
        "\n",
        "        player_choice = input('''\n",
        "        r for ROCK\n",
        "        p for PAPER\n",
        "        s for SCISSORS\n",
        "        Enter your choice  :\n",
        "        ''')\n",
        "\n",
        "        if player_choice.lower() == \"r\":\n",
        "            player_choice=\"rock\"\n",
        "        if player_choice.lower() == \"p\":\n",
        "            player_choice=\"paper\"\n",
        "        if player_choice.lower() == \"s\":\n",
        "            player_choice=\"scissors\"\n",
        "\n",
        "    print(f\"player : {player_choice}\")\n",
        "    print(f\"computer : {computer}\")\n",
        "\n",
        "    if player_choice == computer:\n",
        "        print(\"Its a TIE !!\")\n",
        "    elif player_choice == \"rock\" and computer == \"scissors\" :\n",
        "        print(\"YOU WINN !!\")\n",
        "    elif player_choice == \"paper\" and computer == \"rock\" :\n",
        "        print(\"YOU WINN !!\")\n",
        "    elif player_choice == \"scissors\" and computer == \"paper\" :\n",
        "        print(\"YOU WINN !!\")\n",
        "    else:\n",
        "        print(\"YOU LOSE ! , Better Luck Next Time\")\n",
        "\n",
        "    play_again=input(\"Do you want to continue ?? (y/n) : \").lower()\n",
        "    if not play_again == \"y\":\n",
        "        running = False\n",
        "\n",
        "print(\"\\n\\nTHANKS FOR PLAYING !!\")\n",
        "\n"
      ],
      "metadata": {
        "colab": {
          "base_uri": "https://localhost:8080/"
        },
        "id": "cG1fYMTTn9vl",
        "outputId": "267fa262-3496-4f0b-8a0e-5b22e8c19942"
      },
      "execution_count": 1,
      "outputs": [
        {
          "output_type": "stream",
          "name": "stdout",
          "text": [
            "\n",
            "        r for ROCK\n",
            "        p for PAPER\n",
            "        s for SCISSORS\n",
            "        Enter your choice  : \n",
            "        R\n",
            "player : rock\n",
            "computer : scissors\n",
            "YOU WINN !!\n",
            "Do you want to continue ?? (y/n) : y\n",
            "\n",
            "        r for ROCK\n",
            "        p for PAPER\n",
            "        s for SCISSORS\n",
            "        Enter your choice  : \n",
            "        s\n",
            "player : scissors\n",
            "computer : scissors\n",
            "Its a TIE !!\n",
            "Do you want to continue ?? (y/n) : Y\n",
            "\n",
            "        r for ROCK\n",
            "        p for PAPER\n",
            "        s for SCISSORS\n",
            "        Enter your choice  : \n",
            "        e\n",
            "\n",
            "        r for ROCK\n",
            "        p for PAPER\n",
            "        s for SCISSORS\n",
            "        Enter your choice  : \n",
            "        s\n",
            "player : scissors\n",
            "computer : rock\n",
            "YOU LOSE ! , Better Luck Next Time\n",
            "Do you want to continue ?? (y/n) : N\n",
            "\n",
            "\n",
            "THANKS FOR PLAYING !!\n"
          ]
        }
      ]
    }
  ]
}