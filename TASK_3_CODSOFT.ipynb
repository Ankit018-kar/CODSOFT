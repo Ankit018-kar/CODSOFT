{
  "nbformat": 4,
  "nbformat_minor": 0,
  "metadata": {
    "colab": {
      "provenance": [],
      "authorship_tag": "ABX9TyNXyE+BKTo6xpsbQvm4PA6J",
      "include_colab_link": true
    },
    "kernelspec": {
      "name": "python3",
      "display_name": "Python 3"
    },
    "language_info": {
      "name": "python"
    }
  },
  "cells": [
    {
      "cell_type": "markdown",
      "metadata": {
        "id": "view-in-github",
        "colab_type": "text"
      },
      "source": [
        "<a href=\"https://colab.research.google.com/github/Ankit018-kar/COODSOFT/blob/main/TASK_3_CODSOFT.ipynb\" target=\"_parent\"><img src=\"https://colab.research.google.com/assets/colab-badge.svg\" alt=\"Open In Colab\"/></a>"
      ]
    },
    {
      "cell_type": "code",
      "execution_count": null,
      "metadata": {
        "colab": {
          "base_uri": "https://localhost:8080/"
        },
        "id": "OUrQN-hEfQhJ",
        "outputId": "8a1f1d8e-cb31-4110-ac5d-9f6cb581b60a"
      },
      "outputs": [
        {
          "output_type": "stream",
          "name": "stdout",
          "text": [
            " Enter the length of your password : 10\n",
            " Enter the amount of password to be generated : 10\n",
            "B^YD4;K51V\n",
            "j/&\\=FV-+O\n",
            "E{B3vd+ZP:\n",
            "Us@QoDkX0&\n",
            "RD(~yZ`T\"A\n",
            "1Psi\\/\"{NC\n",
            "VqP<[#Hais\n",
            "4fbA)E^H&5\n",
            "*h@m%=RWfV\n",
            "[Jo/Taf`BA\n"
          ]
        }
      ],
      "source": [
        "# PASSWORD GENERATOR : TASK_3_CODSOFT\n",
        "\n",
        "import random\n",
        "import string\n",
        "\n",
        "digits = string.digits\n",
        "symbols =string.punctuation\n",
        "uppercase_letters = string.ascii_uppercase\n",
        "lowercase_letters = string.ascii_lowercase\n",
        "\n",
        "length=int(input(\" Enter the length of your password : \"))\n",
        "amount=int(input(\" Enter the amount of password to be generated : \"))\n",
        "upper,lower,numbers,sym = True,True,True,True\n",
        "all = \"\"\n",
        "\n",
        "if upper:\n",
        "    all += uppercase_letters\n",
        "\n",
        "if lower:\n",
        "    all += lowercase_letters\n",
        "\n",
        "if numbers:\n",
        "    all += digits\n",
        "\n",
        "if sym:\n",
        "    all += symbols\n",
        "\n",
        "\n",
        "for x in range (amount):\n",
        "    password = \"\".join(random.sample(all,length))\n",
        "\n",
        "    print(password)\n",
        "\n"
      ]
    }
  ]
}