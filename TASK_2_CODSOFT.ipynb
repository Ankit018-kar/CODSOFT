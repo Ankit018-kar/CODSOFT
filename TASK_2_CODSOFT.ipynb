{
  "nbformat": 4,
  "nbformat_minor": 0,
  "metadata": {
    "colab": {
      "provenance": [],
      "authorship_tag": "ABX9TyMDsv0X5wYDVNxdCQ1bIqdM",
      "include_colab_link": true
    },
    "kernelspec": {
      "name": "python3",
      "display_name": "Python 3"
    },
    "language_info": {
      "name": "python"
    }
  },
  "cells": [
    {
      "cell_type": "markdown",
      "metadata": {
        "id": "view-in-github",
        "colab_type": "text"
      },
      "source": [
        "<a href=\"https://colab.research.google.com/github/Ankit018-kar/COODSOFT/blob/main/TASK_2_CODSOFT.ipynb\" target=\"_parent\"><img src=\"https://colab.research.google.com/assets/colab-badge.svg\" alt=\"Open In Colab\"/></a>"
      ]
    },
    {
      "cell_type": "code",
      "execution_count": null,
      "metadata": {
        "colab": {
          "base_uri": "https://localhost:8080/"
        },
        "id": "OD-0HPT2l7Sz",
        "outputId": "918d8fa0-97f2-48cd-ec19-0bca4b457abe"
      },
      "outputs": [
        {
          "output_type": "stream",
          "name": "stdout",
          "text": [
            "\n",
            "Enter the First value: 5\n",
            "\n",
            "\n",
            "Enter the Second value: 6\n",
            "**Press 1 for Addition Operation**\n",
            "\n",
            "    **Press 2 For Subtraction Operation**\n",
            "\n",
            "    **Press 3 For Multiplication Operation**\n",
            "\n",
            "    **Press 4 For Division Operation**\n",
            "\n",
            "    **Press 5 To Find The Remainder**\n",
            "\n",
            "    **Press 6 To Find Power**\n",
            "\n",
            "\n",
            "Enter Your Choice: 6\n",
            "val1^val2 is : 15625\n",
            "\n",
            "do you want to continue(y/n): \n",
            "NoneY\n",
            "\n",
            "Enter the First value: 6\n",
            "\n",
            "\n",
            "Enter the Second value: 7\n",
            "**Press 1 for Addition Operation**\n",
            "\n",
            "    **Press 2 For Subtraction Operation**\n",
            "\n",
            "    **Press 3 For Multiplication Operation**\n",
            "\n",
            "    **Press 4 For Division Operation**\n",
            "\n",
            "    **Press 5 To Find The Remainder**\n",
            "\n",
            "    **Press 6 To Find Power**\n",
            "\n",
            "\n",
            "Enter Your Choice: 3\n",
            "The Multiplication of val1 and val2 is : 42\n",
            "\n",
            "do you want to continue(y/n): \n",
            "NoneN\n",
            "\n",
            "Thanks for using the Calculator !!!\n",
            "\n"
          ]
        }
      ],
      "source": [
        "# CALCULATOR : TASK_2_CODSOFT\n",
        "\n",
        "continue_process=True\n",
        "\n",
        "while continue_process:\n",
        "    a=int(input(\"\\nEnter the First value: \"))\n",
        "    b=int(input(\"\\n\\nEnter the Second value: \"))\n",
        "\n",
        "\n",
        "    print('''**Press 1 for Addition Operation**\\n\n",
        "    **Press 2 For Subtraction Operation**\\n\n",
        "    **Press 3 For Multiplication Operation**\\n\n",
        "    **Press 4 For Division Operation**\\n\n",
        "    **Press 5 To Find The Remainder**\\n\n",
        "    **Press 6 To Find Power**\\n\\n''')\n",
        "\n",
        "\n",
        "    choice=int(input(\"Enter Your Choice: \"))\n",
        "\n",
        "    if(choice==1):\n",
        "        c=a+b\n",
        "        print(\"The Addition of val1 and val2 is :\",c)\n",
        "    elif(choice==2):\n",
        "        c=a-b\n",
        "        print(\"The Subtraction of val1 and val2 is :\",c)\n",
        "    elif(choice==3):\n",
        "        c=a*b\n",
        "        print(\"The Multiplication of val1 and val2 is :\",c)\n",
        "    elif(choice==4):\n",
        "        if b!=0:\n",
        "            c=a/b\n",
        "            print(\"The Division of val1 and val2 is :\",c)\n",
        "        else:\n",
        "            print(\"ERROR !!, Division by 0 is not Possible...\")\n",
        "    elif(choice==5):\n",
        "        c=a%b\n",
        "        print(\"The Remainder of val1 and val2 is :\",c)\n",
        "    elif(choice==6):\n",
        "        c=a**b\n",
        "        print(\"val1^val2 is :\",c)\n",
        "    else:\n",
        "        print(\"\\nYour Choice is Invalid...Please try again\\n\")\n",
        "\n",
        "\n",
        "    YN=input(print(\"\\ndo you want to continue(y/n): \"))\n",
        "\n",
        "\n",
        "    if YN.lower()==\"n\":\n",
        "         continue_process=False\n",
        "\n",
        "print(\"\\nThanks for using the Calculator !!!\\n\")\n"
      ]
    }
  ]
}